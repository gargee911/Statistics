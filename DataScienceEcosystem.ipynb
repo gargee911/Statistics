{
 "cells": [
  {
   "cell_type": "markdown",
   "id": "2f471986-b788-4ab5-ba6c-2a32c99d714c",
   "metadata": {},
   "source": [
    "# Data Science Tools and Ecosystem"
   ]
  },
  {
   "cell_type": "markdown",
   "id": "3d635035-e0eb-4d08-844a-0ea8812f6c27",
   "metadata": {},
   "source": [
    "In this notebook, Data Science Tools and Ecosystem are summarized."
   ]
  },
  {
   "cell_type": "markdown",
   "id": "a9b25b93-163c-4953-8366-48c44da3e917",
   "metadata": {},
   "source": [
    "## **Objectives**\n",
    "\n",
    "After completing this lab, you will be able to:\n",
    "* List of popular languages for Data Science\n",
    "* List of commonly used libraries for Data Science\n",
    "* Create Tables in Markdown\n",
    "* Create ordered and unordered lists in Markdown\n",
    "* Demonstrate your mathematical calculations in Jupyter Notebooks\n"
   ]
  },
  {
   "cell_type": "markdown",
   "id": "9e7879c4-c8de-49f4-912e-5b516249c277",
   "metadata": {},
   "source": [
    "Some of the popular languages that Data Scientists use are:\n",
    "1. Python\n",
    "2. R\n",
    "3. Java"
   ]
  },
  {
   "cell_type": "markdown",
   "id": "37a64c23-b50f-426d-b427-2b2ab7fd5df3",
   "metadata": {},
   "source": [
    "Some of the commonly used libraries used by Data Scientists include:\n",
    "1. Pandas\n",
    "2. Numpy\n",
    "3. SciPy\n",
    "4. Matplotlib\n",
    "5. Plotly\n",
    "6. Scikit-Learn\n",
    "7. Keras\n",
    "8. TensorFlow\n",
    "9. Seaborn"
   ]
  },
  {
   "cell_type": "markdown",
   "id": "0a783404-be57-48fe-9115-462a9b2a3254",
   "metadata": {},
   "source": [
    "| Data Science Tools |\n",
    "|--------------------|\n",
    "| IBM Watson Studio |\n",
    "| JupyterLab |\n",
    "| Apache Spark |"
   ]
  },
  {
   "cell_type": "markdown",
   "id": "16f66a64-a7ae-4bbe-9727-175a15266a8c",
   "metadata": {},
   "source": [
    "### Below are a few examples of evaluating arithmetic expressions in Python"
   ]
  },
  {
   "cell_type": "code",
   "execution_count": 8,
   "id": "6358bfd2-ac2a-4d4e-be38-352b5989b596",
   "metadata": {},
   "outputs": [
    {
     "data": {
      "text/plain": [
       "17"
      ]
     },
     "execution_count": 8,
     "metadata": {},
     "output_type": "execute_result"
    }
   ],
   "source": [
    "# This a simple arithmetic expression to mutiply then add integers\n",
    "(3*4)+5"
   ]
  },
  {
   "cell_type": "code",
   "execution_count": 20,
   "id": "b8fc2be0-ce32-4b6b-b6e8-22f54234dedf",
   "metadata": {},
   "outputs": [
    {
     "name": "stdout",
     "output_type": "stream",
     "text": [
      "200 minutes =  3.3333333333333335  hours\n"
     ]
    }
   ],
   "source": [
    "# This will convert 200 minutes to hours by diving by 60\n",
    "ans = 200/60\n",
    "print(\"200 minutes = \",ans ,\" hours\")"
   ]
  },
  {
   "cell_type": "markdown",
   "id": "91e2e2f5-078e-425d-9d9b-aa85279ef820",
   "metadata": {},
   "source": [
    "## Author:\n",
    "Gargee Kate"
   ]
  },
  {
   "cell_type": "code",
   "execution_count": null,
   "id": "b8787c72-afcc-4b12-8249-324d5a3b05c3",
   "metadata": {},
   "outputs": [],
   "source": []
  }
 ],
 "metadata": {
  "kernelspec": {
   "display_name": "Python 3 (ipykernel)",
   "language": "python",
   "name": "python3"
  },
  "language_info": {
   "codemirror_mode": {
    "name": "ipython",
    "version": 3
   },
   "file_extension": ".py",
   "mimetype": "text/x-python",
   "name": "python",
   "nbconvert_exporter": "python",
   "pygments_lexer": "ipython3",
   "version": "3.12.4"
  }
 },
 "nbformat": 4,
 "nbformat_minor": 5
}
